{
 "cells": [
  {
   "cell_type": "markdown",
   "metadata": {},
   "source": [
    "IPython Notebook Tutorial\n",
    "============\n",
    "\n",
    "*Prepared by Davis Engeler.*\n",
    "\n",
    "This tutorial will walk you through the process of setting up and getting started with IPython Notebook. Let's start with a little explanation of what [IPython Notebook](http://ipython.org/notebook.html) is and how it will be useful for us.\n",
    "\n",
    "> The IPython Notebook is a web-based interactive computational environment where you can combine code execution, text, mathematics, plots and rich media into a single document. These notebooks are normal files that can be shared with colleagues, converted to other formats such as HTML or PDF, etc. You can share any publicly available notebook by using the IPython Notebook Viewer service which will render it as a static web page. This makes it easy to give your colleagues a document they can read immediately without having to install anything.\n",
    "\n",
    "**To sum it up**, IPython Notebook is a beautiful way to create clean and clear documents and reports for our Big Data analytics with Spark. Alongside live code snippets, Notebook supports [Markdown](http://en.wikipedia.org/wiki/Markdown) for text formatting. *Markdown* is a great syntax to learn for writing Wiki-like documents.\n",
    "\n",
    "IPython Notebook runs as a server and does not necessarily need to be run locally. We will be using it through the browser. *For example:* You could set up Notebook on an EC2 instance and access it through a web address to quickly analyze a large data set on the instance. Since the code in the documents are live, you can have a nicely formatted document with graphs that update along with the data. It's pretty cool.\n",
    "\n",
    "***[Click here](https://www.youtube.com/watch?v=QduNTe3LFbs) to check out the video that goes along with the tutorial.***\n",
    "\n",
    "## Section A...\n",
    "\n",
    "Before you start, let's ensure that you have a few things ready to go.\n",
    "\n",
    "1. **Ubuntu:** You will need to have [Ubuntu](http://www.ubuntu.com/download) installed for this tutorial. A virtual machine is convenient, but performance will be much better if you install the OS to a different partition on your local hard drive. I will be using Ubuntu in this tutorial, but it should work the same on any other debian Linux distribution. These types of tools should work for other Unix based systems (like OS X), but there may be significant differences during setup.\n",
    "1. **Java:** Java is necessary to run most of this stuff, so be sure you have it installed. The easiest method is to isntall it through `apt-get` so your PATH is update automatically. \n",
    "1. **Spark:** If you haven't yet, [download Spark](https://spark.apache.org/downloads.html) and set it up on your Ubuntu machine. I have installed mine into `~/.spark` and suggest doing something similar. If you have already installed Spark to a different location, just keep that in mind when I mention Spark directories later in the guide.\n",
    "1. **Sample Data Set:** During this tutorial, we will go through an example analysis of a sample *MovieLens 100k* dataset. Go ahead and start [download the data set](http://files.grouplens.org/datasets/movielens/ml-100k.zip). Once it's finished downloading, extract it somewhere that you will remember for our example (I would suggest somewhere like `~/Desktop/ml-100k/` for now).\n",
    "1. **Anaconda Installer:** [Download this installer script](http://continuum.io/downloads) to make our lives easier. It includes most of the dependencies that we need for IPython Notebook. *Once the script is installed we will be ready to continue.*\n",
    "\n",
    "## Section B...\n",
    "\n",
    "### 1: Install Anaconda\n",
    "\n",
    "Now that the *Anaconda Installer script* has finished downloading, we need to start it. It may take some time to get everything installed. \n",
    "\n",
    "1. **Open up Terminal** (*hint: press* `Ctrl+Alt+T` *to quickly open the Terminal*)\n",
    "1. **Use the `cd` command** to navigate to the location of the `Anaconda-x.x.x-Linux-x86_64.sh` file you just downloaded.\n",
    "        \n",
    "        cd ~/Downloads/\n",
    "        \n",
    "1. **Run the script** with the `sudo sh` command. *(When typing the file name, use the Tab key to automatically fill in the rest. If that doesn't work, type a few more characters and try again. If you literally type \"x.x.x\", you should rethink your life.)*\n",
    "            \n",
    "        sudo sh Anaconda-x.x.x-Linux-x86_64.sh\n",
    "            \n",
    "1. **Near the end of the installation process**, the script will ask if you want to add the path variables to `bashrc`. I'm not sure if this will set them up correctly, so it's up to you. Either way, I will go over the proper setup of the path variables later on.\n",
    "\n",
    "\n",
    "### 2: Set Up Path Variables\n",
    "\n",
    "We need to key path variables set up for IPython Notebook to work properly.\n",
    "\n",
    "1. **Edit your `~/.bashrc` file**\n",
    "        \n",
    "        sudo gedit ~/.bashrc\n",
    "        \n",
    "1. **You want to be sure that the file contains these lines.** Your *first line needs to be set to wherever your Spark is installed*. Everything after the equal sign on the first line should be set to your spark folder. For example: '`/home/davis/documents/spark`'. However, since my Spark is in '`~/.spark`', I'm using '`$HOME/.spark`'\n",
    "\n",
    "        export SPARK_HOME=$HOME/.spark \n",
    "        export PYTHONPATH=$SPARK_HOME/python/lib/py4j-0.8.2.1-src.zip\n",
    "        export PYTHONPATH=$SPARK_HOME/python/:$PYTHONPATH\n",
    "        export ANACONDAPATH=$HOME/anaconda/bin\n",
    "        export PATH=$ANACONDAPATH:$SPARK_HOME:$PYTHONPATH:$PATH\n",
    "        \n",
    "1. **Save the file** and quit gedit.\n",
    "\n",
    "### 3: Configure IPython\n",
    "\n",
    "1. **Create an IPython profile** to use with PySpark\n",
    "        \n",
    "        ipython profile create pyspark\n",
    "        \n",
    "1. **Create a password** for the profile\n",
    "        \n",
    "        python -c 'from IPython.lib import passwd; print passwd()' > ~/.ipython/profile_pyspark/nbpasswd.txt\n",
    "        \n",
    "1. **Edit the file** '`~/.ipython/profile_pyspark/ipython_notebook_config.py`'\n",
    "        \n",
    "        sudo gedit ~/.ipython/profile_pyspark/ipython_notebook_config.py\n",
    "        \n",
    "1. For our purposes, you can **remove everything in the file and replace it with the following.** *You may want to look into this configuration later when you're ready to use this in practice. Hosting on all IPs isn't the best...*\n",
    "\n",
    "        import os\n",
    "        from os.path import expanduser\n",
    "        home = expanduser(\"~\")\n",
    "        c = get_config()\n",
    "        c.NotebookApp.ip = '*'\n",
    "        c.NotebookApp.open_browser = False\n",
    "        c.NotebookApp.port = 8880\n",
    "        WORKINGDIR = home + \"/.ipython/profile_pyspark/working-dir\"\n",
    "        if not os.path.exists(WORKINGDIR):\n",
    "           os.makedirs(WORKINGDIR)\n",
    "        c.NotebookManager.notebook_dir = WORKINGDIR\n",
    "        PWDFILE = home + \"/.ipython/profile_pyspark/nbpasswd.txt\"\n",
    "        c.NotebookApp.password = open(PWDFILE).read().strip()\n",
    "        \n",
    "1. **Create and edit** the file `~/.ipython/profile_pyspark/startup/00-pyspark-setup.py`\n",
    "        \n",
    "        sudo gedit ~/.ipython/profile_pyspark/startup/00-pyspark-setup.py\n",
    "        \n",
    "1. **Paste this in** and save the file. Close gedit.\n",
    "\n",
    "        import os\n",
    "        import sys\n",
    "\n",
    "        spark_home = os.environ.get('SPARK_HOME', None)\n",
    "          if not spark_home:\n",
    "              raise ValueError('SPARK_HOME environment variable is not set')\n",
    "        sys.path.insert(0, os.path.join(spark_home, 'python'))\n",
    "          sys.path.insert(0, os.path.join(spark_home, 'python/lib/py4j-0.8.2.1-src.zip'))\n",
    "        execfile(os.path.join(spark_home, 'python/pyspark/shell.py'))\n",
    "        \n",
    "1. **Start up IPython Notebook.**\n",
    "        \n",
    "        ipython notebook --profile=pyspark\n",
    "        \n",
    "## Section C...\n",
    "\n",
    "\n",
    "\n",
    "\n",
    "\n",
    "\n",
    "\n",
    "\n",
    "\n"
   ]
  },
  {
   "cell_type": "markdown",
   "metadata": {},
   "source": [
    "MovieLens 100k Data Set\n",
    "===========================\n",
    "\n",
    "This is an example iPython Notebook for the MovieLens 100K Data Set.\n",
    "\n",
    "Go ahead and get our environment set up to play with the set."
   ]
  },
  {
   "cell_type": "code",
   "execution_count": 1,
   "metadata": {
    "collapsed": false
   },
   "outputs": [],
   "source": [
    "import os\n",
    "import sys\n",
    "from pyspark import SparkContext\n",
    "from matplotlib.pylab import *\n",
    "import matplotlib.pyplot as plt\n",
    "%matplotlib inline\n",
    "\n",
    "app_name = \"MovieLens\"\n",
    "sc = SparkContext(\"local\", app_name)\n",
    "\n",
    "user_data = sc.textFile(\"/home/davis/Desktop/ml-100k/u.user\")"
   ]
  },
  {
   "cell_type": "markdown",
   "metadata": {},
   "source": [
    "Let's take a look at the first element of user_data to see how it's structured..."
   ]
  },
  {
   "cell_type": "code",
   "execution_count": 2,
   "metadata": {
    "collapsed": false
   },
   "outputs": [
    {
     "data": {
      "text/plain": [
       "u'1|24|M|technician|85711'"
      ]
     },
     "execution_count": 2,
     "metadata": {},
     "output_type": "execute_result"
    }
   ],
   "source": [
    "user_data.first()"
   ]
  },
  {
   "cell_type": "markdown",
   "metadata": {},
   "source": [
    "Let's **transform the data** by splitting each line around the `|` character. This will give us an RDD where each record is a Python list that contains the user ID, age, gender, occupoation, and zip code fields."
   ]
  },
  {
   "cell_type": "code",
   "execution_count": 3,
   "metadata": {
    "collapsed": false
   },
   "outputs": [
    {
     "name": "stdout",
     "output_type": "stream",
     "text": [
      "Users: 943, genders: 2, occupations: 21, zipcodes: 795\n"
     ]
    }
   ],
   "source": [
    "user_fields = user_data.map(lambda line: line.split(\"|\"))\n",
    "num_users = user_fields.map(lambda fields: fields[0]).count()\n",
    "num_genders = user_fields.map(lambda fields: fields[2]).distinct().count()\n",
    "num_occupations = user_fields.map(lambda fields: fields[3]).distinct().count()\n",
    "num_zipcodes = user_fields.map(lambda fields: fields[4]).distinct().count()\n",
    "print \"Users: %d, genders: %d, occupations: %d, zipcodes: %d\" % (num_users, num_genders, num_occupations, num_zipcodes)"
   ]
  },
  {
   "cell_type": "markdown",
   "metadata": {},
   "source": [
    "Let's create a histogram to analyze the distribution of user ages using *matplotlib*'s `hist` function."
   ]
  },
  {
   "cell_type": "code",
   "execution_count": 4,
   "metadata": {
    "collapsed": false
   },
   "outputs": [
    {
     "data": {
      "image/png": "[encoded data removed]",
      "text/plain": [
       "<matplotlib.figure.Figure at 0x7f2569725ed0>"
      ]
     },
     "metadata": {},
     "output_type": "display_data"
    }
   ],
   "source": [
    "ages = user_fields.map(lambda x: int(x[1])).collect()\n",
    "hist(ages, bins=20, color='orange', normed=True)\n",
    "fig = matplotlib.pyplot.gcf()\n",
    "fig.set_size_inches(10, 6)"
   ]
  },
  {
   "cell_type": "markdown",
   "metadata": {},
   "source": [
    "It looks like most of the MovieLens users are somewhat skewed towards younger viewers. A large number of users are between the ages of about 15 and 35. Let's start to explore the relative frequencies of the various occupations of our users. We can do this with the following code snippet.\n",
    "\n",
    "1. We will use `MapReduce` to count the occurences of each occupation in the dataset.\n",
    "1. We will use `matplotlib` to display a bar chart of occupation counts using the `bar` function\n",
    "\n",
    "*Since part of our data is the descriptions of textual occupation, we will need to manipulate it a little bit to get it to work with the `bar` function.*"
   ]
  },
  {
   "cell_type": "code",
   "execution_count": 5,
   "metadata": {
    "collapsed": false
   },
   "outputs": [],
   "source": [
    "# .map -> .reduceByKey -> .collect\n",
    "count_by_occupation = user_fields.map(lambda fields: (fields[3], 1)).reduceByKey(lambda x, y: x + y).collect()\n",
    "\n",
    "x_axis1 = np.array([c[0] for c in count_by_occupation])\n",
    "y_axis1 = np.array([c[1] for c in count_by_occupation])"
   ]
  },
  {
   "cell_type": "markdown",
   "metadata": {},
   "source": [
    "Once we have collected the RDD of counts per occupation, we will convert it into two arrays for the x axis (*the occupations*) and the y axit (*the counts*) of our chart. The `collect` function returns the count data to us in no particular order. We need to sort the count data so that our bar chart is ordered from the lowest to the highest count.\n",
    "\n",
    "We can do this by first creating two `numpy` arrays and then using the `argsort` method of `numpy` to select the elements from each array, ordered by the count data in an ascending fashion. Notice that this is where we will sort both the x and y axis arrays by the y axis (the counts)."
   ]
  },
  {
   "cell_type": "code",
   "execution_count": 6,
   "metadata": {
    "collapsed": false
   },
   "outputs": [],
   "source": [
    "x_axis = x_axis1[np.argsort(y_axis1)]\n",
    "y_axis = y_axis1[np.argsort(y_axis1)]"
   ]
  },
  {
   "cell_type": "markdown",
   "metadata": {},
   "source": [
    "Once we have the x and y axis data for our chart, we will create the bar chart with the occupations as labels on the x axis and the counts as the values on the y axis. We will also add a few lines, such as the `plt.xticks(rotation=30)` code to display a better looking chart."
   ]
  },
  {
   "cell_type": "code",
   "execution_count": 7,
   "metadata": {
    "collapsed": false
   },
   "outputs": [
    {
     "data": {
      "image/png": "[encoded data removed]",
      "text/plain": [
       "<matplotlib.figure.Figure at 0x7f256964c150>"
      ]
     },
     "metadata": {},
     "output_type": "display_data"
    }
   ],
   "source": [
    "pos = np.arange(len(x_axis))\n",
    "width = 1.0\n",
    "\n",
    "ax = plt.axes()\n",
    "ax.set_xticks(pos + (width / 2))\n",
    "ax.set_xticklabels(x_axis)\n",
    "\n",
    "plt.bar(pos, y_axis, width, color='orange')\n",
    "plt.xticks(rotation=30)\n",
    "fig = matplotlib.pyplot.gcf()\n",
    "fig.set_size_inches(11, 6)"
   ]
  },
  {
   "cell_type": "markdown",
   "metadata": {},
   "source": [
    "It looks like our most prevalent occupations are **student, other, educator, administrator, engineer,** and **programmer**.\n",
    "\n",
    "Spark provides a convenience method on RDDs called `countByValue`; this method counts the occurances of each unique value in the RDD and returns it to the driver as a Python `dict` method (or a Scala or Java `Map` method). We can create the `count_by_occupations` variable using the following method."
   ]
  },
  {
   "cell_type": "code",
   "execution_count": 8,
   "metadata": {
    "collapsed": false
   },
   "outputs": [
    {
     "name": "stdout",
     "output_type": "stream",
     "text": [
      "Map-reduce approach:\n",
      "{u'administrator': 79, u'retired': 14, u'lawyer': 12, u'healthcare': 16, u'marketing': 26, u'executive': 32, u'scientist': 31, u'student': 196, u'technician': 27, u'librarian': 51, u'programmer': 66, u'salesman': 12, u'homemaker': 7, u'engineer': 67, u'none': 9, u'doctor': 7, u'writer': 45, u'entertainment': 18, u'other': 105, u'educator': 95, u'artist': 28}\n",
      "\n",
      "countByValue approach:\n",
      "{u'administrator': 79, u'executive': 32, u'retired': 14, u'doctor': 7, u'entertainment': 18, u'marketing': 26, u'writer': 45, u'none': 9, u'healthcare': 16, u'scientist': 31, u'homemaker': 7, u'student': 196, u'educator': 95, u'technician': 27, u'librarian': 51, u'programmer': 66, u'artist': 28, u'salesman': 12, u'other': 105, u'lawyer': 12, u'engineer': 67}\n"
     ]
    }
   ],
   "source": [
    "count_by_occupation2 = user_fields.map(lambda fields: fields[3]).countByValue()\n",
    "print \"Map-reduce approach:\"\n",
    "print dict(count_by_occupation2)\n",
    "print \"\"\n",
    "print \"countByValue approach:\"\n",
    "print dict(count_by_occupation)"
   ]
  },
  {
   "cell_type": "markdown",
   "metadata": {},
   "source": [
    "*Notice that the results are the same for both approaches.*"
   ]
  },
  {
   "cell_type": "markdown",
   "metadata": {},
   "source": [
    "### Exploring the movie dataset\n",
    "\n",
    "Next, let's investigate a few properties of the movie catalogue. We can inspect a row of the movie data file just like we did for the user data before, then count the number of movies."
   ]
  },
  {
   "cell_type": "code",
   "execution_count": 9,
   "metadata": {
    "collapsed": false
   },
   "outputs": [
    {
     "name": "stdout",
     "output_type": "stream",
     "text": [
      "1|Toy Story (1995)|01-Jan-1995||http://us.imdb.com/M/title-exact?Toy%20Story%20(1995)|0|0|0|1|1|1|0|0|0|0|0|0|0|0|0|0|0|0|0\n",
      "\n",
      "Total Movies: 1682\n"
     ]
    }
   ],
   "source": [
    "movie_data = sc.textFile(\"/home/davis/Desktop/ml-100k/u.item\")\n",
    "\n",
    "# Let's print out the first one in the list to see how it's formatted\n",
    "print movie_data.first()\n",
    "print \"\" #new line\n",
    "\n",
    "num_movies = movie_data.count()\n",
    "print \"Total Movies: %d\" % num_movies"
   ]
  },
  {
   "cell_type": "markdown",
   "metadata": {},
   "source": [
    "In the same manner as we did for user ages and occupations earlier, we can plot the distribution of movie age (*release date*) relative to the current date (*NOTE: for this data set, the current year is 1998*).\n",
    "\n",
    "In the following code block, we can see that we need a small function called `convert_year` to handle errors in the parsing of the `release date` field. This is due to some bad data in one line of the movie data."
   ]
  },
  {
   "cell_type": "code",
   "execution_count": 10,
   "metadata": {
    "collapsed": false
   },
   "outputs": [],
   "source": [
    "def convert_year(x):\n",
    "    try:\n",
    "      return int(x[-4:])\n",
    "    except:\n",
    "      return 1900 # there is a 'bad' data point with a blank year, so we set it to 1900 and will filter it out later"
   ]
  },
  {
   "cell_type": "markdown",
   "metadata": {},
   "source": [
    "Once we have our utility function to parse the year of release, we can apply it to the movie data using a `map` transformation and collect the results."
   ]
  },
  {
   "cell_type": "code",
   "execution_count": 11,
   "metadata": {
    "collapsed": false
   },
   "outputs": [],
   "source": [
    "movie_fields = movie_data.map(lambda lines: lines.split(\"|\"))\n",
    "years = movie_fields.map(lambda fields: fields[2]).map(lambda x: convert_year(x))"
   ]
  },
  {
   "cell_type": "markdown",
   "metadata": {},
   "source": [
    "Since we have assigned the value 1900 to any error in parsin, we can filter these bad value out of the resulting data using Spark's `filter` transformation."
   ]
  },
  {
   "cell_type": "code",
   "execution_count": 12,
   "metadata": {
    "collapsed": false
   },
   "outputs": [],
   "source": [
    "years_filtered = years.filter(lambda x: x != 1900)"
   ]
  },
  {
   "cell_type": "markdown",
   "metadata": {},
   "source": [
    "This is a good example of how real-world datasets can often be messy and require a more in-depth approach to parsing data. In fact, this also illustrates why data exploration is so important, as many of these issues in data integrity and quality are picked up during this phase.\n",
    "\n",
    "After filtering out bad data, we will transform the list of movie release years into movie ages by subtracting the current year, use `countByValue` to computer the counts for each movie age, and finally plot our histogram of movies ages (again, using the `hist` function where the `values` variable are the values of the result from `countByValue` and the `bins` variable are the keys)."
   ]
  },
  {
   "cell_type": "code",
   "execution_count": 13,
   "metadata": {
    "collapsed": false
   },
   "outputs": [
    {
     "data": {
      "image/png": "[encoded data removed]",
      "text/plain": [
       "<matplotlib.figure.Figure at 0x7f258c9c3710>"
      ]
     },
     "metadata": {},
     "output_type": "display_data"
    }
   ],
   "source": [
    "movie_ages = years_filtered.map(lambda yr: 1998-yr).countByValue()\n",
    "values = movie_ages.values()\n",
    "bins = movie_ages.keys()\n",
    "hist(values, bins=bins, color='orange', normed=True)\n",
    "fig = matplotlib.pyplot.gcf()\n",
    "fig.set_size_inches(10,4)"
   ]
  },
  {
   "cell_type": "markdown",
   "metadata": {},
   "source": [
    "This shows us that move of the movies were released in the last few years before 1998."
   ]
  }
 ],
 "metadata": {
  "kernelspec": {
   "display_name": "Python 3",
   "language": "python",
   "name": "python3"
  },
  "language_info": {
   "codemirror_mode": {
    "name": "ipython",
    "version": 3
   },
   "file_extension": ".py",
   "mimetype": "text/x-python",
   "name": "python",
   "nbconvert_exporter": "python",
   "pygments_lexer": "ipython3",
   "version": "3.5.2"
  }
 },
 "nbformat": 4,
 "nbformat_minor": 0
}
