{
 "cells": [
  {
   "cell_type": "code",
   "execution_count": null,
   "metadata": {
    "collapsed": false
   },
   "outputs": [],
   "source": []
  },
  {
   "cell_type": "code",
   "execution_count": 1,
   "metadata": {
    "collapsed": false
   },
   "outputs": [
    {
     "ename": "ModuleNotFoundError",
     "evalue": "No module named 'matplotlib'",
     "output_type": "error",
     "traceback": [
      "\u001b[0;31m---------------------------------------------------------------------------\u001b[0m",
      "\u001b[0;31mModuleNotFoundError\u001b[0m                       Traceback (most recent call last)",
      "\u001b[0;32m<ipython-input-1-848e235ae4ca>\u001b[0m in \u001b[0;36m<module>\u001b[0;34m()\u001b[0m\n\u001b[1;32m      9\u001b[0m \u001b[0;34m\u001b[0m\u001b[0m\n\u001b[1;32m     10\u001b[0m \u001b[0;31m#Conjunto de funcoes para plot\u001b[0m\u001b[0;34m\u001b[0m\u001b[0;34m\u001b[0m\u001b[0m\n\u001b[0;32m---> 11\u001b[0;31m \u001b[0;32mimport\u001b[0m \u001b[0mmatplotlib\u001b[0m\u001b[0;34m.\u001b[0m\u001b[0mpyplot\u001b[0m \u001b[0;32mas\u001b[0m \u001b[0mplt\u001b[0m\u001b[0;34m\u001b[0m\u001b[0m\n\u001b[0m\u001b[1;32m     12\u001b[0m \u001b[0;34m\u001b[0m\u001b[0m\n\u001b[1;32m     13\u001b[0m \u001b[0;34m\u001b[0m\u001b[0m\n",
      "\u001b[0;31mModuleNotFoundError\u001b[0m: No module named 'matplotlib'"
     ]
    }
   ],
   "source": [
    "#Célula para importação de bibliotecas e APIs\n",
    "\n",
    "\n",
    "#Conjunto de funções para trabalhar com arquivos\n",
    "import os\n",
    "import sys\n",
    "sys.path.append(\"/home/tiagohbalves/Documentos/Audio_Files/Bruna/Afirmacao\")\n",
    "\n",
    "\n",
    "#Conjunto de funcoes para plot\n",
    "import matplotlib.pyplot as plt\n",
    "\n",
    "\n",
    "\n",
    "#Conjunto de funcoes para estrair o pitch\n",
    "import f0_praat\n",
    "\n",
    "#Conjunto de funções matemáticas\n",
    "import numpy\n",
    "\n",
    "\n",
    "#Conjunto de funcoes auxiliares caso necessário\n",
    "import auxiliar_codes\n",
    "\n",
    "\n",
    "#Sci-kit learn\n",
    "import sklearn\n",
    "\n",
    "\n",
    "\n"
   ]
  },
  {
   "cell_type": "code",
   "execution_count": null,
   "metadata": {
    "collapsed": false
   },
   "outputs": [],
   "source": [
    "#Célula para lê os diretórios e arquivos a serem utilizados\n",
    "\n",
    "\n",
    "\n",
    "# The name of the audio file\n",
    "files_perg = [];\n",
    "files_afirm =[];\n",
    "\n",
    "#The name of the directory of audio files\n",
    "dire_afirm = \"/home/tiagohbalves/Documentos/Audio_Files/Bruna/Afirmacao_1\";\n",
    "dire_perg = \"/home/tiagohbalves/Documentos/Audio_Files/Bruna/Interrogacao_1\";\n",
    "\n",
    "\n",
    "for file in os.listdir(dire_afirm):\n",
    "    if file.endswith(\".wav\"):\n",
    "        files_afirm.append(\"/\"+file);\n",
    "\n",
    "files_afirm.sort();\n",
    "files_perg=files_afirm;\n",
    "\n",
    "\n",
    "tempo_afirm = numpy.loadtxt(open(\"/home/tiagohbalves/Documentos/Dados/tempos_afirmacao_1.csv\",\"rb\"),delimiter=\",\")\n",
    "tempo_perg = numpy.loadtxt(open(\"/home/tiagohbalves/Documentos/Dados/tempos_pergunta_1.csv\",\"rb\"),delimiter=\",\")\n",
    "\n",
    "tempo_afirm = (tempo_afirm*100);\n",
    "tempo_afirm = tempo_afirm.astype(int);\n",
    "tempo_perg = tempo_perg*100;\n",
    "tempo_perg = tempo_perg.astype(int);"
   ]
  },
  {
   "cell_type": "code",
   "execution_count": null,
   "metadata": {
    "collapsed": false
   },
   "outputs": [],
   "source": [
    "#The base rate\n",
    "srate = 100.0;\n",
    "\n",
    "# The pitch range to be used by the pitch extraction algorithm\n",
    "#pitch_range = (150, 500);\n",
    "#pitch_range = (40, 500);\n",
    "pitch_range = (140, 400);\n",
    "\n",
    "# Parameters for Praat's pitch extraction algorithm\n",
    "input_parms = {};\n",
    "input_parms[\"time_step\"]     = 1.0/srate;\n",
    "input_parms[\"pitch_floor\"]   = pitch_range[0];\n",
    "input_parms[\"pitch_ceiling\"] = pitch_range[1];\n",
    "\n",
    "#audio_file=dire_afirm+files_perg[0];\n",
    "\n",
    "\n",
    "i = 0\n",
    "\n",
    "t = numpy.arange(0.0,20.0,1/srate)\n",
    "\n",
    "for i in range(0,14):\n",
    "    audio_file_perg = dire_perg+files_perg[i];\n",
    "    audio_file_afirm= dire_afirm+files_afirm[i];\n",
    "\n",
    "    #  Extract the F0 signal\n",
    "    (f0_signal_perg,f0_time_perg,f0_parms) = f0_praat.compute_f0_praat(audio_file_perg,input_parms);\n",
    "    (f0_signal_afirm,f0_time_afirm,f0_parms) = f0_praat.compute_f0_praat(audio_file_afirm,input_parms);\n",
    "    \n",
    "    \n",
    "    # Plot the F0 signal\n",
    "    plt.plot(t[range(0,(tempo_perg[i,1] - tempo_perg[i,0]))], f0_signal_perg[range(tempo_perg[i,0],tempo_perg[i,1])],'r-',\n",
    "             t[range(0,(tempo_afirm[i,1]) - tempo_afirm[i,0])],f0_signal_afirm[range(tempo_afirm[i,0],tempo_afirm[i,1])],'b-');\n",
    "    plt.grid(\"on\");\n",
    "    plt.show();\n",
    "    plt.savefig\n"
   ]
  },
  {
   "cell_type": "code",
   "execution_count": null,
   "metadata": {
    "collapsed": false
   },
   "outputs": [],
   "source": []
  },
  {
   "cell_type": "code",
   "execution_count": null,
   "metadata": {
    "collapsed": false
   },
   "outputs": [],
   "source": [
    "\n"
   ]
  },
  {
   "cell_type": "code",
   "execution_count": null,
   "metadata": {
    "collapsed": false
   },
   "outputs": [],
   "source": []
  },
  {
   "cell_type": "code",
   "execution_count": null,
   "metadata": {
    "collapsed": false
   },
   "outputs": [],
   "source": []
  },
  {
   "cell_type": "code",
   "execution_count": null,
   "metadata": {
    "collapsed": false
   },
   "outputs": [],
   "source": []
  },
  {
   "cell_type": "code",
   "execution_count": null,
   "metadata": {
    "collapsed": false
   },
   "outputs": [],
   "source": []
  },
  {
   "cell_type": "code",
   "execution_count": null,
   "metadata": {
    "collapsed": false
   },
   "outputs": [],
   "source": []
  },
  {
   "cell_type": "code",
   "execution_count": null,
   "metadata": {
    "collapsed": false
   },
   "outputs": [],
   "source": []
  },
  {
   "cell_type": "code",
   "execution_count": null,
   "metadata": {
    "collapsed": false
   },
   "outputs": [],
   "source": []
  },
  {
   "cell_type": "code",
   "execution_count": null,
   "metadata": {
    "collapsed": false
   },
   "outputs": [],
   "source": []
  },
  {
   "cell_type": "code",
   "execution_count": null,
   "metadata": {
    "collapsed": false
   },
   "outputs": [],
   "source": []
  },
  {
   "cell_type": "code",
   "execution_count": null,
   "metadata": {
    "collapsed": true
   },
   "outputs": [],
   "source": []
  }
 ],
 "metadata": {
  "kernelspec": {
   "display_name": "Python 3",
   "language": "python",
   "name": "python3"
  },
  "language_info": {
   "codemirror_mode": {
    "name": "ipython",
    "version": 3
   },
   "file_extension": ".py",
   "mimetype": "text/x-python",
   "name": "python",
   "nbconvert_exporter": "python",
   "pygments_lexer": "ipython3",
   "version": "3.6.0"
  }
 },
 "nbformat": 4,
 "nbformat_minor": 1
}
